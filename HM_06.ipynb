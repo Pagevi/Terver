{
 "cells": [
  {
   "cell_type": "markdown",
   "id": "349ad4f5",
   "metadata": {},
   "source": [
    "Задача 1. \n",
    "Известно, что генеральная совокупность распределена нормально\n",
    "со средним квадратическим отклонением, равным 16.\n",
    "Найти доверительный интервал для оценки математического ожидания a с надежностью\n",
    "0.95, если выборочная средняя M = 80, а объем выборки n = 256."
   ]
  },
  {
   "cell_type": "code",
   "execution_count": 3,
   "id": "777c6d04",
   "metadata": {},
   "outputs": [],
   "source": [
    "sigma = 16\n",
    "n = 256\n",
    "p = 0.95\n",
    "x_mean = 80\n",
    "alpha = 1 - p"
   ]
  },
  {
   "cell_type": "code",
   "execution_count": 4,
   "id": "855143fd",
   "metadata": {},
   "outputs": [
    {
     "data": {
      "text/plain": [
       "(-1.959963984540054, 1.959963984540054)"
      ]
     },
     "execution_count": 4,
     "metadata": {},
     "output_type": "execute_result"
    }
   ],
   "source": [
    "import numpy as np\n",
    "from scipy import stats\n",
    "\n",
    "t1 = stats.norm.ppf(alpha / 2)\n",
    "t2 = stats.norm.ppf(1 - alpha / 2)\n",
    "t1, t2"
   ]
  },
  {
   "cell_type": "code",
   "execution_count": 5,
   "id": "eaf55eeb",
   "metadata": {},
   "outputs": [
    {
     "data": {
      "text/plain": [
       "(78.04003601545995, 81.95996398454005)"
      ]
     },
     "execution_count": 5,
     "metadata": {},
     "output_type": "execute_result"
    }
   ],
   "source": [
    "left = x_mean + t1 * sigma / np.sqrt(n)\n",
    "right = x_mean + t2 * sigma / np.sqrt(n)\n",
    "left, right"
   ]
  },
  {
   "cell_type": "code",
   "execution_count": 6,
   "id": "01b6ab85",
   "metadata": {},
   "outputs": [
    {
     "data": {
      "text/plain": [
       "3.9199279690801063"
      ]
     },
     "execution_count": 6,
     "metadata": {},
     "output_type": "execute_result"
    }
   ],
   "source": [
    "right - left"
   ]
  },
  {
   "cell_type": "markdown",
   "id": "d0094983",
   "metadata": {},
   "source": [
    "Задача 2. \n",
    "В результате 10 независимых измерений некоторой величины X, выполненных с\n",
    "одинаковой точностью,\n",
    "получены опытные данные:\n",
    "6.9, 6.1, 6.2, 6.8, 7.5, 6.3, 6.4, 6.9, 6.7, 6.1\n",
    "Предполагая, что результаты измерений подчинены нормальному закону распределения\n",
    "вероятностей,оценить истинное значение величины X при помощи доверительного интервала,\n",
    "покрывающего это значение с доверительной вероятностью 0,95."
   ]
  },
  {
   "cell_type": "code",
   "execution_count": 7,
   "id": "ece3babd",
   "metadata": {},
   "outputs": [],
   "source": [
    "import numpy as np\n",
    "from scipy import stats\n",
    "\n",
    "x = np.array([6.9, 6.1, 6.2, 6.8, 7.5, 6.3, 6.4, 6.9, 6.7, 6.1])"
   ]
  },
  {
   "cell_type": "code",
   "execution_count": 8,
   "id": "c89be87e",
   "metadata": {},
   "outputs": [],
   "source": [
    "mean = x.mean()\n",
    "sigma = x.std(ddof = 1)\n",
    "n = x.shape[0]\n",
    "p = 0.95\n",
    "alpha = 1 - p"
   ]
  },
  {
   "cell_type": "code",
   "execution_count": 9,
   "id": "e15510d5",
   "metadata": {},
   "outputs": [
    {
     "data": {
      "text/plain": [
       "(-2.2621571627409915, 2.2621571627409915)"
      ]
     },
     "execution_count": 9,
     "metadata": {},
     "output_type": "execute_result"
    }
   ],
   "source": [
    "t1 = stats.t.ppf(alpha / 2, df = n - 1)\n",
    "t2 = stats.t.ppf(1 - alpha / 2, df = n - 1)\n",
    "t1, t2"
   ]
  },
  {
   "cell_type": "code",
   "execution_count": 10,
   "id": "19bfeb53",
   "metadata": {},
   "outputs": [
    {
     "data": {
      "text/plain": [
       "(6.267515851415713, 6.912484148584288)"
      ]
     },
     "execution_count": 10,
     "metadata": {},
     "output_type": "execute_result"
    }
   ],
   "source": [
    "left = mean + t1 * sigma / np.sqrt(n)\n",
    "right = mean + t2 * sigma / np.sqrt(n)\n",
    "left, right"
   ]
  },
  {
   "cell_type": "markdown",
   "id": "6a494c58",
   "metadata": {},
   "source": [
    "Задача 3. Рост дочерей 175, 167, 154, 174, 178, 148, 160, 167, 169, 170\n",
    "Рост матерей 178, 165, 165, 173, 168, 155, 160, 164, 178, 175\n",
    "\n",
    "Используя эти данные построить 95% доверительный интервал для разности среднего\n",
    "роста родителей и детей."
   ]
  },
  {
   "cell_type": "code",
   "execution_count": 13,
   "id": "c34f905a",
   "metadata": {},
   "outputs": [],
   "source": [
    "import numpy as np\n",
    "\n",
    "x = np.array([175, 167, 154, 174, 178, 148, 160, 167, 169, 170])\n",
    "y = np.array([178, 165, 165, 173, 168, 155, 160, 164, 178, 175])\n",
    "\n",
    "n1 = x.shape[0]\n",
    "n2 = y.shape[0]"
   ]
  },
  {
   "cell_type": "code",
   "execution_count": 14,
   "id": "39814588",
   "metadata": {},
   "outputs": [
    {
     "data": {
      "text/plain": [
       "(91.06666666666666, 60.10000000000001, 75.58333333333334, 3.888015775002291)"
      ]
     },
     "execution_count": 14,
     "metadata": {},
     "output_type": "execute_result"
    }
   ],
   "source": [
    "d1 = x.var(ddof = 1)\n",
    "d2 = y.var(ddof = 1)\n",
    "d = (d1 + d2) / 2\n",
    "s_delta = np.sqrt(d1 / n1 + d2 / n2)\n",
    "d1, d2, d, s_delta"
   ]
  },
  {
   "cell_type": "code",
   "execution_count": 20,
   "id": "02503371",
   "metadata": {},
   "outputs": [
    {
     "data": {
      "text/plain": [
       "(-2.10092204024096, 2.10092204024096)"
      ]
     },
     "execution_count": 20,
     "metadata": {},
     "output_type": "execute_result"
    }
   ],
   "source": [
    "p = 0.95\n",
    "alpha = 1 - p\n",
    "\n",
    "t1 = stats.t.ppf(alpha / 2, df = 2 * (n1 - 1))\n",
    "t2 = stats.t.ppf(1 - alpha / 2, df = 2 * (n1 - 1))\n",
    "t1, t2"
   ]
  },
  {
   "cell_type": "code",
   "execution_count": 21,
   "id": "00fee25c",
   "metadata": {},
   "outputs": [
    {
     "data": {
      "text/plain": [
       "(-10.068418034506857, 6.268418034506846)"
      ]
     },
     "execution_count": 21,
     "metadata": {},
     "output_type": "execute_result"
    }
   ],
   "source": [
    "left = x.mean() - y.mean() + t1 * s_delta\n",
    "right = x.mean() - y.mean() + t2 * s_delta\n",
    "left, right"
   ]
  },
  {
   "cell_type": "code",
   "execution_count": null,
   "id": "fd12c6a5",
   "metadata": {},
   "outputs": [],
   "source": []
  }
 ],
 "metadata": {
  "kernelspec": {
   "display_name": "Python 3 (ipykernel)",
   "language": "python",
   "name": "python3"
  },
  "language_info": {
   "codemirror_mode": {
    "name": "ipython",
    "version": 3
   },
   "file_extension": ".py",
   "mimetype": "text/x-python",
   "name": "python",
   "nbconvert_exporter": "python",
   "pygments_lexer": "ipython3",
   "version": "3.9.13"
  }
 },
 "nbformat": 4,
 "nbformat_minor": 5
}
