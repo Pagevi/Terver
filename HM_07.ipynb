{
 "cells": [
  {
   "cell_type": "code",
   "execution_count": 13,
   "id": "e451fd66",
   "metadata": {},
   "outputs": [],
   "source": [
    "import numpy as np\n",
    "from scipy import stats"
   ]
  },
  {
   "cell_type": "code",
   "execution_count": 6,
   "id": "0f69ede9",
   "metadata": {},
   "outputs": [
    {
     "data": {
      "text/plain": [
       "MannwhitneyuResult(statistic=8.0, pvalue=0.6285714285714286)"
      ]
     },
     "execution_count": 6,
     "metadata": {},
     "output_type": "execute_result"
    }
   ],
   "source": [
    "# Задача 1. Даны две независимые выборки. Не соблюдается условие нормальности\n",
    "# x1 380,420, 290\n",
    "# y1 140,360,200,900\n",
    "# Сделайте вывод по результатам, полученным с помощью функции\n",
    "\n",
    "x1 = np.array([380, 420, 290])\n",
    "y1 = np.array([140, 360, 200, 900])\n",
    "\n",
    "stats.mannwhitneyu(x1, y1)"
   ]
  },
  {
   "cell_type": "code",
   "execution_count": null,
   "id": "855143fd",
   "metadata": {},
   "outputs": [],
   "source": [
    "# P-value > alpha, H0 не отвергается на уровне значимости 0,05"
   ]
  },
  {
   "cell_type": "code",
   "execution_count": 9,
   "id": "eaf55eeb",
   "metadata": {},
   "outputs": [
    {
     "data": {
      "text/plain": [
       "FriedmanchisquareResult(statistic=9.578947368421062, pvalue=0.00831683351100441)"
      ]
     },
     "execution_count": 9,
     "metadata": {},
     "output_type": "execute_result"
    }
   ],
   "source": [
    "# Задача 2. \n",
    "# Исследовалось влияние препарата на уровень давления пациентов. Сначала\n",
    "# измерялось давление до приема препарата, потом через 10 минут и через 30 минут. Есть\n",
    "# ли статистически значимые различия?\n",
    "# 1е измерение до приема препарата: 150, 160, 165, 145, 155\n",
    "# 2е измерение через 10 минут: 140, 155, 150, 130, 135\n",
    "# 3е измерение через 30 минут: 130, 130, 120, 130, 125\n",
    "    \n",
    "x1 = np.array([150, 160, 165, 145, 155])\n",
    "x2 = np.array([140, 155, 150, 130, 135])\n",
    "x3 = np.array([130, 130, 120, 130, 125])\n",
    "\n",
    "stats.friedmanchisquare(x1, x2, x3)"
   ]
  },
  {
   "cell_type": "code",
   "execution_count": null,
   "id": "01b6ab85",
   "metadata": {},
   "outputs": [],
   "source": [
    "# P-value > alpha, H0 не отвергается на уровне значимости 0,05"
   ]
  },
  {
   "cell_type": "code",
   "execution_count": 11,
   "id": "1e326e7a",
   "metadata": {},
   "outputs": [
    {
     "data": {
      "text/plain": [
       "WilcoxonResult(statistic=0.0, pvalue=0.0625)"
      ]
     },
     "execution_count": 11,
     "metadata": {},
     "output_type": "execute_result"
    }
   ],
   "source": [
    "# Задача 3. Сравните 1 и 2 е измерения, предполагая, что 3го измерения через 30 минут не было.\n",
    "\n",
    "x1 = np.array([150, 160, 165, 145, 155])\n",
    "x2 = np.array([140, 155, 150, 130, 135])\n",
    "\n",
    "stats.wilcoxon(x1, x2)"
   ]
  },
  {
   "cell_type": "code",
   "execution_count": null,
   "id": "ece3babd",
   "metadata": {},
   "outputs": [],
   "source": [
    "# P-value > alpha, H0 не отвергается на уровне значимости 0,05"
   ]
  },
  {
   "cell_type": "code",
   "execution_count": 12,
   "id": "c89be87e",
   "metadata": {},
   "outputs": [
    {
     "data": {
      "text/plain": [
       "KruskalResult(statistic=5.465564058257224, pvalue=0.0650380998590494)"
      ]
     },
     "execution_count": 12,
     "metadata": {},
     "output_type": "execute_result"
    }
   ],
   "source": [
    "# Задача 4. Даны 3 группы учеников плавания.\n",
    "# В 1 группе время на дистанцию 50 м составляют: 56, 60, 62, 55, 71, 67, 59, 58, 64, 67\n",
    "# Вторая группа : 57, 58, 69, 48, 72, 70, 68, 71, 50, 53\n",
    "# Третья группа: 57, 67, 49, 48, 47, 55, 66, 51, 54\n",
    "\n",
    "x1 = np.array([56, 60, 62, 55, 71, 67, 59, 58, 64, 67])\n",
    "x2 = np.array([57, 58, 69, 48, 72, 70, 68, 71, 50, 53])\n",
    "x3 = np.array([57, 67, 49, 48, 47, 55, 66, 51, 54])\n",
    "\n",
    "stats.kruskal(x1, x2, x3)"
   ]
  },
  {
   "cell_type": "code",
   "execution_count": null,
   "id": "e15510d5",
   "metadata": {},
   "outputs": [],
   "source": [
    "# P-value > alpha, H0 не отвергается на уровне значимости 0,05"
   ]
  },
  {
   "cell_type": "code",
   "execution_count": 10,
   "id": "19bfeb53",
   "metadata": {},
   "outputs": [
    {
     "data": {
      "text/plain": [
       "(6.267515851415713, 6.912484148584288)"
      ]
     },
     "execution_count": 10,
     "metadata": {},
     "output_type": "execute_result"
    }
   ],
   "source": [
    "left = mean + t1 * sigma / np.sqrt(n)\n",
    "right = mean + t2 * sigma / np.sqrt(n)\n",
    "left, right"
   ]
  },
  {
   "cell_type": "markdown",
   "id": "6a494c58",
   "metadata": {},
   "source": [
    "Задача 3. Рост дочерей 175, 167, 154, 174, 178, 148, 160, 167, 169, 170\n",
    "Рост матерей 178, 165, 165, 173, 168, 155, 160, 164, 178, 175\n",
    "\n",
    "Используя эти данные построить 95% доверительный интервал для разности среднего\n",
    "роста родителей и детей."
   ]
  },
  {
   "cell_type": "code",
   "execution_count": 13,
   "id": "c34f905a",
   "metadata": {},
   "outputs": [],
   "source": [
    "import numpy as np\n",
    "\n",
    "x = np.array([175, 167, 154, 174, 178, 148, 160, 167, 169, 170])\n",
    "y = np.array([178, 165, 165, 173, 168, 155, 160, 164, 178, 175])\n",
    "\n",
    "n1 = x.shape[0]\n",
    "n2 = y.shape[0]"
   ]
  },
  {
   "cell_type": "code",
   "execution_count": 14,
   "id": "39814588",
   "metadata": {},
   "outputs": [
    {
     "data": {
      "text/plain": [
       "(91.06666666666666, 60.10000000000001, 75.58333333333334, 3.888015775002291)"
      ]
     },
     "execution_count": 14,
     "metadata": {},
     "output_type": "execute_result"
    }
   ],
   "source": [
    "d1 = x.var(ddof = 1)\n",
    "d2 = y.var(ddof = 1)\n",
    "d = (d1 + d2) / 2\n",
    "s_delta = np.sqrt(d1 / n1 + d2 / n2)\n",
    "d1, d2, d, s_delta"
   ]
  },
  {
   "cell_type": "code",
   "execution_count": 20,
   "id": "02503371",
   "metadata": {},
   "outputs": [
    {
     "data": {
      "text/plain": [
       "(-2.10092204024096, 2.10092204024096)"
      ]
     },
     "execution_count": 20,
     "metadata": {},
     "output_type": "execute_result"
    }
   ],
   "source": [
    "p = 0.95\n",
    "alpha = 1 - p\n",
    "\n",
    "t1 = stats.t.ppf(alpha / 2, df = 2 * (n1 - 1))\n",
    "t2 = stats.t.ppf(1 - alpha / 2, df = 2 * (n1 - 1))\n",
    "t1, t2"
   ]
  },
  {
   "cell_type": "code",
   "execution_count": 21,
   "id": "00fee25c",
   "metadata": {},
   "outputs": [
    {
     "data": {
      "text/plain": [
       "(-10.068418034506857, 6.268418034506846)"
      ]
     },
     "execution_count": 21,
     "metadata": {},
     "output_type": "execute_result"
    }
   ],
   "source": [
    "left = x.mean() - y.mean() + t1 * s_delta\n",
    "right = x.mean() - y.mean() + t2 * s_delta\n",
    "left, right"
   ]
  },
  {
   "cell_type": "code",
   "execution_count": null,
   "id": "fd12c6a5",
   "metadata": {},
   "outputs": [],
   "source": []
  }
 ],
 "metadata": {
  "kernelspec": {
   "display_name": "Python 3 (ipykernel)",
   "language": "python",
   "name": "python3"
  },
  "language_info": {
   "codemirror_mode": {
    "name": "ipython",
    "version": 3
   },
   "file_extension": ".py",
   "mimetype": "text/x-python",
   "name": "python",
   "nbconvert_exporter": "python",
   "pygments_lexer": "ipython3",
   "version": "3.9.13"
  }
 },
 "nbformat": 4,
 "nbformat_minor": 5
}
