{
 "cells": [
  {
   "cell_type": "code",
   "execution_count": 2,
   "id": "503656dc",
   "metadata": {},
   "outputs": [],
   "source": [
    "import numpy as np"
   ]
  },
  {
   "cell_type": "code",
   "execution_count": 3,
   "id": "c1aca0fa",
   "metadata": {},
   "outputs": [],
   "source": [
    "# Заадча1. \n",
    "# Даны значения величины заработной платы заемщиков банка (zp) и значения их\n",
    "# поведенческого кредитного скоринга (ks): zp = [35, 45, 190, 200, 40, 70, 54, 150, 120, 110],\n",
    "# ks = [401, 574, 874, 919, 459, 739, 653, 902, 746, 832]. \n",
    "# Используя математические операции, посчитать коэффициенты линейной регрессии, приняв за X заработную плату\n",
    "# (то есть, zp - признак), а за y - значения скорингового балла (то есть, ks - целевая\n",
    "# переменная). \n",
    "# Произвести расчет как с использованием intercept, так и без.\n",
    "\n",
    "zp = np.array([35, 45, 190, 200, 40, 70, 54, 150, 120, 110])\n",
    "ks = np.array([401, 574, 874, 919, 459, 739, 653, 902, 746, 832])\n",
    "\n",
    "n = 10"
   ]
  },
  {
   "cell_type": "code",
   "execution_count": 5,
   "id": "9e3b5fa0",
   "metadata": {},
   "outputs": [
    {
     "data": {
      "text/plain": [
       "(2.620538882402765, 444.1773573243596)"
      ]
     },
     "execution_count": 5,
     "metadata": {},
     "output_type": "execute_result"
    }
   ],
   "source": [
    "b1 = (np.mean(zp * ks) - np.mean(ks) * np.mean(zp)) / (np.mean(zp ** 2) - np.mean(zp) ** 2)\n",
    "b0 = np.mean(ks) - b1 * np.mean(zp)\n",
    "\n",
    "b1, b0"
   ]
  },
  {
   "cell_type": "code",
   "execution_count": 9,
   "id": "55e01321",
   "metadata": {},
   "outputs": [
    {
     "data": {
      "text/plain": [
       "(array([535.89621821, 562.10160703, 942.07974498, 968.2851338 ,\n",
       "        548.99891262, 627.61507909, 585.68645697, 837.25818968,\n",
       "        758.64202321, 732.43663439]),\n",
       " array([ 91.71886088, 117.92424971, 497.90238766, 524.10777648,\n",
       "        104.8215553 , 183.43772177, 141.50909965, 393.08083236,\n",
       "        314.46466589, 288.25927706]))"
      ]
     },
     "execution_count": 9,
     "metadata": {},
     "output_type": "execute_result"
    }
   ],
   "source": [
    "У_pred_1 = b0 + b1 * zp\n",
    "y_pred_2 = b1 * zp\n",
    "\n",
    "У_pred_1, y_pred_2"
   ]
  },
  {
   "cell_type": "code",
   "execution_count": 23,
   "id": "f115749c",
   "metadata": {},
   "outputs": [
    {
     "name": "stdout",
     "output_type": "stream",
     "text": [
      "Iteration = 0, B1 = 0.525059652, mse = 393134.9057321317\n",
      "Iteration = 500, B1 = 5.291773277053885, mse = 80108.5425397534\n",
      "Iteration = 1000, B1 = 5.291777361609672, mse = 80108.54253952354\n",
      "Iteration = 1500, B1 = 5.291777361613154, mse = 80108.54253952355\n",
      "Iteration = 2000, B1 = 5.291777361613154, mse = 80108.54253952355\n",
      "Iteration = 2500, B1 = 5.291777361613154, mse = 80108.54253952355\n"
     ]
    }
   ],
   "source": [
    "# Задача 2 \n",
    "# Посчитать коэффициент линейной регрессии при заработной плате (zp), используя градиентный спуск (без intercept).\n",
    "\n",
    "x = np.array([35, 45, 190, 200, 40, 70, 54, 150, 120, 110])\n",
    "y = np.array([401, 574, 874, 919, 459, 739, 653, 902, 746, 83])\n",
    "\n",
    "def mse_(B1, y = y, x = x, n = 10):\n",
    "    return np.sum((B1 * x - y) ** 2) / n\n",
    "\n",
    "alpha = 1e-6\n",
    "B1 = 0.39\n",
    "n = 10\n",
    "\n",
    "for i in range (3000):\n",
    "    B1 -= alpha * (2 / n) * np.sum((B1 * x - y) * x)\n",
    "    if i % 500 == 0:\n",
    "        print('Iteration = {i}, B1 = {B1}, mse = {mse}'.format(i = i, B1 = B1, mse = mse_(B1)))"
   ]
  },
  {
   "cell_type": "code",
   "execution_count": 24,
   "id": "02d42b59",
   "metadata": {},
   "outputs": [
    {
     "data": {
      "text/plain": [
       "80108.54254027014"
      ]
     },
     "execution_count": 24,
     "metadata": {},
     "output_type": "execute_result"
    }
   ],
   "source": [
    "mse_(5.29177)"
   ]
  },
  {
   "cell_type": "code",
   "execution_count": null,
   "id": "e42b7c79",
   "metadata": {},
   "outputs": [],
   "source": []
  }
 ],
 "metadata": {
  "kernelspec": {
   "display_name": "Python 3 (ipykernel)",
   "language": "python",
   "name": "python3"
  },
  "language_info": {
   "codemirror_mode": {
    "name": "ipython",
    "version": 3
   },
   "file_extension": ".py",
   "mimetype": "text/x-python",
   "name": "python",
   "nbconvert_exporter": "python",
   "pygments_lexer": "ipython3",
   "version": "3.9.13"
  }
 },
 "nbformat": 4,
 "nbformat_minor": 5
}
